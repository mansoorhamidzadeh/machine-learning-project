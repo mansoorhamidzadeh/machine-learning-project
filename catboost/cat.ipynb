{
 "cells": [
  {
   "cell_type": "code",
   "execution_count": 35,
   "outputs": [],
   "source": [
    "import catboost\n",
    "import numpy as np\n",
    "import pandas as pd\n",
    "import re\n",
    "import seaborn as sns\n",
    "import matplotlib.pyplot as plt"
   ],
   "metadata": {
    "collapsed": false,
    "ExecuteTime": {
     "end_time": "2023-06-11T14:38:54.106464Z",
     "start_time": "2023-06-11T14:38:54.079420300Z"
    }
   }
  },
  {
   "cell_type": "code",
   "execution_count": 16,
   "metadata": {
    "collapsed": true,
    "ExecuteTime": {
     "end_time": "2023-06-11T14:26:32.406970300Z",
     "start_time": "2023-06-11T14:26:28.614131200Z"
    }
   },
   "outputs": [],
   "source": [
    "train_dataset=pd.read_csv('train.csv')"
   ]
  },
  {
   "cell_type": "code",
   "execution_count": 17,
   "outputs": [
    {
     "data": {
      "text/plain": "   id cat1 cat2 cat3 cat4 cat5 cat6 cat7 cat8 cat9  ...     cont6     cont7  \\\n0   1    A    B    A    B    A    A    A    A    B  ...  0.718367  0.335060   \n1   2    A    B    A    A    A    A    A    A    B  ...  0.438917  0.436585   \n2   5    A    B    A    A    B    A    A    A    B  ...  0.289648  0.315545   \n3  10    B    B    A    B    A    A    A    A    B  ...  0.440945  0.391128   \n4  11    A    B    A    B    A    A    A    A    B  ...  0.178193  0.247408   \n\n     cont8    cont9   cont10    cont11    cont12    cont13    cont14     loss  \n0  0.30260  0.67135  0.83510  0.569745  0.594646  0.822493  0.714843  2213.18  \n1  0.60087  0.35127  0.43919  0.338312  0.366307  0.611431  0.304496  1283.60  \n2  0.27320  0.26076  0.32446  0.381398  0.373424  0.195709  0.774425  3005.09  \n3  0.31796  0.32128  0.44467  0.327915  0.321570  0.605077  0.602642   939.85  \n4  0.24564  0.22089  0.21230  0.204687  0.202213  0.246011  0.432606  2763.85  \n\n[5 rows x 132 columns]",
      "text/html": "<div>\n<style scoped>\n    .dataframe tbody tr th:only-of-type {\n        vertical-align: middle;\n    }\n\n    .dataframe tbody tr th {\n        vertical-align: top;\n    }\n\n    .dataframe thead th {\n        text-align: right;\n    }\n</style>\n<table border=\"1\" class=\"dataframe\">\n  <thead>\n    <tr style=\"text-align: right;\">\n      <th></th>\n      <th>id</th>\n      <th>cat1</th>\n      <th>cat2</th>\n      <th>cat3</th>\n      <th>cat4</th>\n      <th>cat5</th>\n      <th>cat6</th>\n      <th>cat7</th>\n      <th>cat8</th>\n      <th>cat9</th>\n      <th>...</th>\n      <th>cont6</th>\n      <th>cont7</th>\n      <th>cont8</th>\n      <th>cont9</th>\n      <th>cont10</th>\n      <th>cont11</th>\n      <th>cont12</th>\n      <th>cont13</th>\n      <th>cont14</th>\n      <th>loss</th>\n    </tr>\n  </thead>\n  <tbody>\n    <tr>\n      <th>0</th>\n      <td>1</td>\n      <td>A</td>\n      <td>B</td>\n      <td>A</td>\n      <td>B</td>\n      <td>A</td>\n      <td>A</td>\n      <td>A</td>\n      <td>A</td>\n      <td>B</td>\n      <td>...</td>\n      <td>0.718367</td>\n      <td>0.335060</td>\n      <td>0.30260</td>\n      <td>0.67135</td>\n      <td>0.83510</td>\n      <td>0.569745</td>\n      <td>0.594646</td>\n      <td>0.822493</td>\n      <td>0.714843</td>\n      <td>2213.18</td>\n    </tr>\n    <tr>\n      <th>1</th>\n      <td>2</td>\n      <td>A</td>\n      <td>B</td>\n      <td>A</td>\n      <td>A</td>\n      <td>A</td>\n      <td>A</td>\n      <td>A</td>\n      <td>A</td>\n      <td>B</td>\n      <td>...</td>\n      <td>0.438917</td>\n      <td>0.436585</td>\n      <td>0.60087</td>\n      <td>0.35127</td>\n      <td>0.43919</td>\n      <td>0.338312</td>\n      <td>0.366307</td>\n      <td>0.611431</td>\n      <td>0.304496</td>\n      <td>1283.60</td>\n    </tr>\n    <tr>\n      <th>2</th>\n      <td>5</td>\n      <td>A</td>\n      <td>B</td>\n      <td>A</td>\n      <td>A</td>\n      <td>B</td>\n      <td>A</td>\n      <td>A</td>\n      <td>A</td>\n      <td>B</td>\n      <td>...</td>\n      <td>0.289648</td>\n      <td>0.315545</td>\n      <td>0.27320</td>\n      <td>0.26076</td>\n      <td>0.32446</td>\n      <td>0.381398</td>\n      <td>0.373424</td>\n      <td>0.195709</td>\n      <td>0.774425</td>\n      <td>3005.09</td>\n    </tr>\n    <tr>\n      <th>3</th>\n      <td>10</td>\n      <td>B</td>\n      <td>B</td>\n      <td>A</td>\n      <td>B</td>\n      <td>A</td>\n      <td>A</td>\n      <td>A</td>\n      <td>A</td>\n      <td>B</td>\n      <td>...</td>\n      <td>0.440945</td>\n      <td>0.391128</td>\n      <td>0.31796</td>\n      <td>0.32128</td>\n      <td>0.44467</td>\n      <td>0.327915</td>\n      <td>0.321570</td>\n      <td>0.605077</td>\n      <td>0.602642</td>\n      <td>939.85</td>\n    </tr>\n    <tr>\n      <th>4</th>\n      <td>11</td>\n      <td>A</td>\n      <td>B</td>\n      <td>A</td>\n      <td>B</td>\n      <td>A</td>\n      <td>A</td>\n      <td>A</td>\n      <td>A</td>\n      <td>B</td>\n      <td>...</td>\n      <td>0.178193</td>\n      <td>0.247408</td>\n      <td>0.24564</td>\n      <td>0.22089</td>\n      <td>0.21230</td>\n      <td>0.204687</td>\n      <td>0.202213</td>\n      <td>0.246011</td>\n      <td>0.432606</td>\n      <td>2763.85</td>\n    </tr>\n  </tbody>\n</table>\n<p>5 rows × 132 columns</p>\n</div>"
     },
     "execution_count": 17,
     "metadata": {},
     "output_type": "execute_result"
    }
   ],
   "source": [
    "train_dataset.head()"
   ],
   "metadata": {
    "collapsed": false,
    "ExecuteTime": {
     "end_time": "2023-06-11T14:26:32.454943600Z",
     "start_time": "2023-06-11T14:26:32.419982600Z"
    }
   }
  },
  {
   "cell_type": "code",
   "execution_count": 18,
   "outputs": [
    {
     "data": {
      "text/plain": "(188318, 132)"
     },
     "execution_count": 18,
     "metadata": {},
     "output_type": "execute_result"
    }
   ],
   "source": [
    "train_dataset.shape"
   ],
   "metadata": {
    "collapsed": false,
    "ExecuteTime": {
     "end_time": "2023-06-11T14:26:32.515908200Z",
     "start_time": "2023-06-11T14:26:32.458940600Z"
    }
   }
  },
  {
   "cell_type": "code",
   "execution_count": 19,
   "outputs": [
    {
     "data": {
      "text/plain": "id        0\ncat1      0\ncat2      0\ncat3      0\ncat4      0\n         ..\ncont11    0\ncont12    0\ncont13    0\ncont14    0\nloss      0\nLength: 132, dtype: int64"
     },
     "execution_count": 19,
     "metadata": {},
     "output_type": "execute_result"
    }
   ],
   "source": [
    "train_dataset.isnull().sum()"
   ],
   "metadata": {
    "collapsed": false,
    "ExecuteTime": {
     "end_time": "2023-06-11T14:26:36.584593200Z",
     "start_time": "2023-06-11T14:26:32.475930800Z"
    }
   }
  },
  {
   "cell_type": "code",
   "execution_count": 20,
   "outputs": [
    {
     "data": {
      "text/plain": "           count           mean            std       min            25%  \\\nid      188318.0  294135.982561  169336.084867  1.000000  147748.250000   \ncont1   188318.0       0.493861       0.187640  0.000016       0.346090   \ncont2   188318.0       0.507188       0.207202  0.001149       0.358319   \ncont3   188318.0       0.498918       0.202105  0.002634       0.336963   \ncont4   188318.0       0.491812       0.211292  0.176921       0.327354   \ncont5   188318.0       0.487428       0.209027  0.281143       0.281143   \ncont6   188318.0       0.490945       0.205273  0.012683       0.336105   \ncont7   188318.0       0.484970       0.178450  0.069503       0.350175   \ncont8   188318.0       0.486437       0.199370  0.236880       0.312800   \ncont9   188318.0       0.485506       0.181660  0.000080       0.358970   \ncont10  188318.0       0.498066       0.185877  0.000000       0.364580   \ncont11  188318.0       0.493511       0.209737  0.035321       0.310961   \ncont12  188318.0       0.493150       0.209427  0.036232       0.311661   \ncont13  188318.0       0.493138       0.212777  0.000228       0.315758   \ncont14  188318.0       0.495717       0.222488  0.179722       0.294610   \nloss    188318.0    3037.337686    2904.086186  0.670000    1204.460000   \n\n                  50%            75%            max  \nid      294539.500000  440680.500000  587633.000000  \ncont1        0.475784       0.623912       0.984975  \ncont2        0.555782       0.681761       0.862654  \ncont3        0.527991       0.634224       0.944251  \ncont4        0.452887       0.652072       0.954297  \ncont5        0.422268       0.643315       0.983674  \ncont6        0.440945       0.655021       0.997162  \ncont7        0.438285       0.591045       1.000000  \ncont8        0.441060       0.623580       0.980200  \ncont9        0.441450       0.566820       0.995400  \ncont10       0.461190       0.614590       0.994980  \ncont11       0.457203       0.678924       0.998742  \ncont12       0.462286       0.675759       0.998484  \ncont13       0.363547       0.689974       0.988494  \ncont14       0.407403       0.724623       0.844848  \nloss      2115.570000    3864.045000  121012.250000  ",
      "text/html": "<div>\n<style scoped>\n    .dataframe tbody tr th:only-of-type {\n        vertical-align: middle;\n    }\n\n    .dataframe tbody tr th {\n        vertical-align: top;\n    }\n\n    .dataframe thead th {\n        text-align: right;\n    }\n</style>\n<table border=\"1\" class=\"dataframe\">\n  <thead>\n    <tr style=\"text-align: right;\">\n      <th></th>\n      <th>count</th>\n      <th>mean</th>\n      <th>std</th>\n      <th>min</th>\n      <th>25%</th>\n      <th>50%</th>\n      <th>75%</th>\n      <th>max</th>\n    </tr>\n  </thead>\n  <tbody>\n    <tr>\n      <th>id</th>\n      <td>188318.0</td>\n      <td>294135.982561</td>\n      <td>169336.084867</td>\n      <td>1.000000</td>\n      <td>147748.250000</td>\n      <td>294539.500000</td>\n      <td>440680.500000</td>\n      <td>587633.000000</td>\n    </tr>\n    <tr>\n      <th>cont1</th>\n      <td>188318.0</td>\n      <td>0.493861</td>\n      <td>0.187640</td>\n      <td>0.000016</td>\n      <td>0.346090</td>\n      <td>0.475784</td>\n      <td>0.623912</td>\n      <td>0.984975</td>\n    </tr>\n    <tr>\n      <th>cont2</th>\n      <td>188318.0</td>\n      <td>0.507188</td>\n      <td>0.207202</td>\n      <td>0.001149</td>\n      <td>0.358319</td>\n      <td>0.555782</td>\n      <td>0.681761</td>\n      <td>0.862654</td>\n    </tr>\n    <tr>\n      <th>cont3</th>\n      <td>188318.0</td>\n      <td>0.498918</td>\n      <td>0.202105</td>\n      <td>0.002634</td>\n      <td>0.336963</td>\n      <td>0.527991</td>\n      <td>0.634224</td>\n      <td>0.944251</td>\n    </tr>\n    <tr>\n      <th>cont4</th>\n      <td>188318.0</td>\n      <td>0.491812</td>\n      <td>0.211292</td>\n      <td>0.176921</td>\n      <td>0.327354</td>\n      <td>0.452887</td>\n      <td>0.652072</td>\n      <td>0.954297</td>\n    </tr>\n    <tr>\n      <th>cont5</th>\n      <td>188318.0</td>\n      <td>0.487428</td>\n      <td>0.209027</td>\n      <td>0.281143</td>\n      <td>0.281143</td>\n      <td>0.422268</td>\n      <td>0.643315</td>\n      <td>0.983674</td>\n    </tr>\n    <tr>\n      <th>cont6</th>\n      <td>188318.0</td>\n      <td>0.490945</td>\n      <td>0.205273</td>\n      <td>0.012683</td>\n      <td>0.336105</td>\n      <td>0.440945</td>\n      <td>0.655021</td>\n      <td>0.997162</td>\n    </tr>\n    <tr>\n      <th>cont7</th>\n      <td>188318.0</td>\n      <td>0.484970</td>\n      <td>0.178450</td>\n      <td>0.069503</td>\n      <td>0.350175</td>\n      <td>0.438285</td>\n      <td>0.591045</td>\n      <td>1.000000</td>\n    </tr>\n    <tr>\n      <th>cont8</th>\n      <td>188318.0</td>\n      <td>0.486437</td>\n      <td>0.199370</td>\n      <td>0.236880</td>\n      <td>0.312800</td>\n      <td>0.441060</td>\n      <td>0.623580</td>\n      <td>0.980200</td>\n    </tr>\n    <tr>\n      <th>cont9</th>\n      <td>188318.0</td>\n      <td>0.485506</td>\n      <td>0.181660</td>\n      <td>0.000080</td>\n      <td>0.358970</td>\n      <td>0.441450</td>\n      <td>0.566820</td>\n      <td>0.995400</td>\n    </tr>\n    <tr>\n      <th>cont10</th>\n      <td>188318.0</td>\n      <td>0.498066</td>\n      <td>0.185877</td>\n      <td>0.000000</td>\n      <td>0.364580</td>\n      <td>0.461190</td>\n      <td>0.614590</td>\n      <td>0.994980</td>\n    </tr>\n    <tr>\n      <th>cont11</th>\n      <td>188318.0</td>\n      <td>0.493511</td>\n      <td>0.209737</td>\n      <td>0.035321</td>\n      <td>0.310961</td>\n      <td>0.457203</td>\n      <td>0.678924</td>\n      <td>0.998742</td>\n    </tr>\n    <tr>\n      <th>cont12</th>\n      <td>188318.0</td>\n      <td>0.493150</td>\n      <td>0.209427</td>\n      <td>0.036232</td>\n      <td>0.311661</td>\n      <td>0.462286</td>\n      <td>0.675759</td>\n      <td>0.998484</td>\n    </tr>\n    <tr>\n      <th>cont13</th>\n      <td>188318.0</td>\n      <td>0.493138</td>\n      <td>0.212777</td>\n      <td>0.000228</td>\n      <td>0.315758</td>\n      <td>0.363547</td>\n      <td>0.689974</td>\n      <td>0.988494</td>\n    </tr>\n    <tr>\n      <th>cont14</th>\n      <td>188318.0</td>\n      <td>0.495717</td>\n      <td>0.222488</td>\n      <td>0.179722</td>\n      <td>0.294610</td>\n      <td>0.407403</td>\n      <td>0.724623</td>\n      <td>0.844848</td>\n    </tr>\n    <tr>\n      <th>loss</th>\n      <td>188318.0</td>\n      <td>3037.337686</td>\n      <td>2904.086186</td>\n      <td>0.670000</td>\n      <td>1204.460000</td>\n      <td>2115.570000</td>\n      <td>3864.045000</td>\n      <td>121012.250000</td>\n    </tr>\n  </tbody>\n</table>\n</div>"
     },
     "execution_count": 20,
     "metadata": {},
     "output_type": "execute_result"
    }
   ],
   "source": [
    "train_dataset.describe().T"
   ],
   "metadata": {
    "collapsed": false,
    "ExecuteTime": {
     "end_time": "2023-06-11T14:26:36.802467800Z",
     "start_time": "2023-06-11T14:26:36.586592400Z"
    }
   }
  },
  {
   "cell_type": "code",
   "execution_count": 21,
   "outputs": [
    {
     "name": "stdout",
     "output_type": "stream",
     "text": [
      "<class 'pandas.core.frame.DataFrame'>\n",
      "RangeIndex: 188318 entries, 0 to 188317\n",
      "Columns: 132 entries, id to loss\n",
      "dtypes: float64(15), int64(1), object(116)\n",
      "memory usage: 189.7+ MB\n"
     ]
    }
   ],
   "source": [
    "train_dataset.info()"
   ],
   "metadata": {
    "collapsed": false,
    "ExecuteTime": {
     "end_time": "2023-06-11T14:26:36.852438600Z",
     "start_time": "2023-06-11T14:26:36.803468200Z"
    }
   }
  },
  {
   "cell_type": "code",
   "execution_count": 22,
   "outputs": [],
   "source": [
    "test_dataset=pd.read_csv('test.csv')"
   ],
   "metadata": {
    "collapsed": false,
    "ExecuteTime": {
     "end_time": "2023-06-11T14:26:51.528582Z",
     "start_time": "2023-06-11T14:26:49.611722400Z"
    }
   }
  },
  {
   "cell_type": "code",
   "execution_count": 23,
   "outputs": [
    {
     "data": {
      "text/plain": "            id cat1 cat2 cat3 cat4 cat5 cat6 cat7 cat8 cat9  ...     cont5  \\\n0            4    A    B    A    A    A    A    A    A    B  ...  0.281143   \n1            6    A    B    A    B    A    A    A    A    B  ...  0.836443   \n2            9    A    B    A    B    B    A    B    A    B  ...  0.718531   \n3           12    A    A    A    A    B    A    A    A    A  ...  0.397069   \n4           15    B    A    A    A    A    B    A    A    A  ...  0.302678   \n...        ...  ...  ...  ...  ...  ...  ...  ...  ...  ...  ...       ...   \n125541  587617    A    A    A    B    A    A    A    A    A  ...  0.281143   \n125542  587621    A    A    A    A    B    B    A    B    A  ...  0.674529   \n125543  587627    B    B    A    A    B    A    A    A    B  ...  0.794794   \n125544  587629    A    A    A    A    A    B    A    B    A  ...  0.302678   \n125545  587634    A    B    A    A    A    A    A    A    B  ...  0.413817   \n\n           cont6     cont7    cont8    cont9   cont10    cont11    cont12  \\\n0       0.466591  0.317681  0.61229  0.34365  0.38016  0.377724  0.369858   \n1       0.482425  0.443760  0.71330  0.51890  0.60401  0.689039  0.675759   \n2       0.212308  0.325779  0.29758  0.34365  0.30529  0.245410  0.241676   \n3       0.369930  0.342355  0.40028  0.33237  0.31480  0.348867  0.341872   \n4       0.398862  0.391833  0.23688  0.43731  0.50556  0.359572  0.352251   \n...          ...       ...      ...      ...      ...       ...       ...   \n125541  0.438917  0.815941  0.39455  0.48740  0.40666  0.550529  0.538473   \n125542  0.346948  0.424968  0.47669  0.25753  0.26894  0.324486  0.352251   \n125543  0.808958  0.511502  0.72299  0.94438  0.83510  0.933174  0.926619   \n125544  0.372125  0.388545  0.31796  0.32128  0.36974  0.307628  0.301921   \n125545  0.221699  0.242044  0.25461  0.31399  0.25183  0.245410  0.241676   \n\n          cont13    cont14  \n0       0.704052  0.392562  \n1       0.453468  0.208045  \n2       0.258586  0.297232  \n3       0.592264  0.555955  \n4       0.301535  0.825823  \n...          ...       ...  \n125541  0.298734  0.345946  \n125542  0.490001  0.290576  \n125543  0.848129  0.808125  \n125544  0.608259  0.361542  \n125545  0.287682  0.220323  \n\n[125546 rows x 131 columns]",
      "text/html": "<div>\n<style scoped>\n    .dataframe tbody tr th:only-of-type {\n        vertical-align: middle;\n    }\n\n    .dataframe tbody tr th {\n        vertical-align: top;\n    }\n\n    .dataframe thead th {\n        text-align: right;\n    }\n</style>\n<table border=\"1\" class=\"dataframe\">\n  <thead>\n    <tr style=\"text-align: right;\">\n      <th></th>\n      <th>id</th>\n      <th>cat1</th>\n      <th>cat2</th>\n      <th>cat3</th>\n      <th>cat4</th>\n      <th>cat5</th>\n      <th>cat6</th>\n      <th>cat7</th>\n      <th>cat8</th>\n      <th>cat9</th>\n      <th>...</th>\n      <th>cont5</th>\n      <th>cont6</th>\n      <th>cont7</th>\n      <th>cont8</th>\n      <th>cont9</th>\n      <th>cont10</th>\n      <th>cont11</th>\n      <th>cont12</th>\n      <th>cont13</th>\n      <th>cont14</th>\n    </tr>\n  </thead>\n  <tbody>\n    <tr>\n      <th>0</th>\n      <td>4</td>\n      <td>A</td>\n      <td>B</td>\n      <td>A</td>\n      <td>A</td>\n      <td>A</td>\n      <td>A</td>\n      <td>A</td>\n      <td>A</td>\n      <td>B</td>\n      <td>...</td>\n      <td>0.281143</td>\n      <td>0.466591</td>\n      <td>0.317681</td>\n      <td>0.61229</td>\n      <td>0.34365</td>\n      <td>0.38016</td>\n      <td>0.377724</td>\n      <td>0.369858</td>\n      <td>0.704052</td>\n      <td>0.392562</td>\n    </tr>\n    <tr>\n      <th>1</th>\n      <td>6</td>\n      <td>A</td>\n      <td>B</td>\n      <td>A</td>\n      <td>B</td>\n      <td>A</td>\n      <td>A</td>\n      <td>A</td>\n      <td>A</td>\n      <td>B</td>\n      <td>...</td>\n      <td>0.836443</td>\n      <td>0.482425</td>\n      <td>0.443760</td>\n      <td>0.71330</td>\n      <td>0.51890</td>\n      <td>0.60401</td>\n      <td>0.689039</td>\n      <td>0.675759</td>\n      <td>0.453468</td>\n      <td>0.208045</td>\n    </tr>\n    <tr>\n      <th>2</th>\n      <td>9</td>\n      <td>A</td>\n      <td>B</td>\n      <td>A</td>\n      <td>B</td>\n      <td>B</td>\n      <td>A</td>\n      <td>B</td>\n      <td>A</td>\n      <td>B</td>\n      <td>...</td>\n      <td>0.718531</td>\n      <td>0.212308</td>\n      <td>0.325779</td>\n      <td>0.29758</td>\n      <td>0.34365</td>\n      <td>0.30529</td>\n      <td>0.245410</td>\n      <td>0.241676</td>\n      <td>0.258586</td>\n      <td>0.297232</td>\n    </tr>\n    <tr>\n      <th>3</th>\n      <td>12</td>\n      <td>A</td>\n      <td>A</td>\n      <td>A</td>\n      <td>A</td>\n      <td>B</td>\n      <td>A</td>\n      <td>A</td>\n      <td>A</td>\n      <td>A</td>\n      <td>...</td>\n      <td>0.397069</td>\n      <td>0.369930</td>\n      <td>0.342355</td>\n      <td>0.40028</td>\n      <td>0.33237</td>\n      <td>0.31480</td>\n      <td>0.348867</td>\n      <td>0.341872</td>\n      <td>0.592264</td>\n      <td>0.555955</td>\n    </tr>\n    <tr>\n      <th>4</th>\n      <td>15</td>\n      <td>B</td>\n      <td>A</td>\n      <td>A</td>\n      <td>A</td>\n      <td>A</td>\n      <td>B</td>\n      <td>A</td>\n      <td>A</td>\n      <td>A</td>\n      <td>...</td>\n      <td>0.302678</td>\n      <td>0.398862</td>\n      <td>0.391833</td>\n      <td>0.23688</td>\n      <td>0.43731</td>\n      <td>0.50556</td>\n      <td>0.359572</td>\n      <td>0.352251</td>\n      <td>0.301535</td>\n      <td>0.825823</td>\n    </tr>\n    <tr>\n      <th>...</th>\n      <td>...</td>\n      <td>...</td>\n      <td>...</td>\n      <td>...</td>\n      <td>...</td>\n      <td>...</td>\n      <td>...</td>\n      <td>...</td>\n      <td>...</td>\n      <td>...</td>\n      <td>...</td>\n      <td>...</td>\n      <td>...</td>\n      <td>...</td>\n      <td>...</td>\n      <td>...</td>\n      <td>...</td>\n      <td>...</td>\n      <td>...</td>\n      <td>...</td>\n      <td>...</td>\n    </tr>\n    <tr>\n      <th>125541</th>\n      <td>587617</td>\n      <td>A</td>\n      <td>A</td>\n      <td>A</td>\n      <td>B</td>\n      <td>A</td>\n      <td>A</td>\n      <td>A</td>\n      <td>A</td>\n      <td>A</td>\n      <td>...</td>\n      <td>0.281143</td>\n      <td>0.438917</td>\n      <td>0.815941</td>\n      <td>0.39455</td>\n      <td>0.48740</td>\n      <td>0.40666</td>\n      <td>0.550529</td>\n      <td>0.538473</td>\n      <td>0.298734</td>\n      <td>0.345946</td>\n    </tr>\n    <tr>\n      <th>125542</th>\n      <td>587621</td>\n      <td>A</td>\n      <td>A</td>\n      <td>A</td>\n      <td>A</td>\n      <td>B</td>\n      <td>B</td>\n      <td>A</td>\n      <td>B</td>\n      <td>A</td>\n      <td>...</td>\n      <td>0.674529</td>\n      <td>0.346948</td>\n      <td>0.424968</td>\n      <td>0.47669</td>\n      <td>0.25753</td>\n      <td>0.26894</td>\n      <td>0.324486</td>\n      <td>0.352251</td>\n      <td>0.490001</td>\n      <td>0.290576</td>\n    </tr>\n    <tr>\n      <th>125543</th>\n      <td>587627</td>\n      <td>B</td>\n      <td>B</td>\n      <td>A</td>\n      <td>A</td>\n      <td>B</td>\n      <td>A</td>\n      <td>A</td>\n      <td>A</td>\n      <td>B</td>\n      <td>...</td>\n      <td>0.794794</td>\n      <td>0.808958</td>\n      <td>0.511502</td>\n      <td>0.72299</td>\n      <td>0.94438</td>\n      <td>0.83510</td>\n      <td>0.933174</td>\n      <td>0.926619</td>\n      <td>0.848129</td>\n      <td>0.808125</td>\n    </tr>\n    <tr>\n      <th>125544</th>\n      <td>587629</td>\n      <td>A</td>\n      <td>A</td>\n      <td>A</td>\n      <td>A</td>\n      <td>A</td>\n      <td>B</td>\n      <td>A</td>\n      <td>B</td>\n      <td>A</td>\n      <td>...</td>\n      <td>0.302678</td>\n      <td>0.372125</td>\n      <td>0.388545</td>\n      <td>0.31796</td>\n      <td>0.32128</td>\n      <td>0.36974</td>\n      <td>0.307628</td>\n      <td>0.301921</td>\n      <td>0.608259</td>\n      <td>0.361542</td>\n    </tr>\n    <tr>\n      <th>125545</th>\n      <td>587634</td>\n      <td>A</td>\n      <td>B</td>\n      <td>A</td>\n      <td>A</td>\n      <td>A</td>\n      <td>A</td>\n      <td>A</td>\n      <td>A</td>\n      <td>B</td>\n      <td>...</td>\n      <td>0.413817</td>\n      <td>0.221699</td>\n      <td>0.242044</td>\n      <td>0.25461</td>\n      <td>0.31399</td>\n      <td>0.25183</td>\n      <td>0.245410</td>\n      <td>0.241676</td>\n      <td>0.287682</td>\n      <td>0.220323</td>\n    </tr>\n  </tbody>\n</table>\n<p>125546 rows × 131 columns</p>\n</div>"
     },
     "execution_count": 23,
     "metadata": {},
     "output_type": "execute_result"
    }
   ],
   "source": [
    "test_dataset"
   ],
   "metadata": {
    "collapsed": false,
    "ExecuteTime": {
     "end_time": "2023-06-11T14:26:54.886653200Z",
     "start_time": "2023-06-11T14:26:54.767721900Z"
    }
   }
  },
  {
   "cell_type": "code",
   "execution_count": 24,
   "outputs": [],
   "source": [
    "train_dataset['isTrain']=True\n",
    "test_dataset['isTrain']=False"
   ],
   "metadata": {
    "collapsed": false,
    "ExecuteTime": {
     "end_time": "2023-06-11T14:27:35.535348200Z",
     "start_time": "2023-06-11T14:27:35.498325200Z"
    }
   }
  },
  {
   "cell_type": "code",
   "execution_count": 26,
   "outputs": [],
   "source": [
    "dataset=pd.concat([train_dataset,test_dataset],axis=0)"
   ],
   "metadata": {
    "collapsed": false,
    "ExecuteTime": {
     "end_time": "2023-06-11T14:28:17.725067400Z",
     "start_time": "2023-06-11T14:28:17.528180300Z"
    }
   }
  },
  {
   "cell_type": "code",
   "execution_count": 28,
   "outputs": [
    {
     "data": {
      "text/plain": "            id cat1 cat2 cat3 cat4 cat5 cat6 cat7 cat8 cat9  ...     cont7  \\\n125541  587617    A    A    A    B    A    A    A    A    A  ...  0.815941   \n125542  587621    A    A    A    A    B    B    A    B    A  ...  0.424968   \n125543  587627    B    B    A    A    B    A    A    A    B  ...  0.511502   \n125544  587629    A    A    A    A    A    B    A    B    A  ...  0.388545   \n125545  587634    A    B    A    A    A    A    A    A    B  ...  0.242044   \n\n          cont8    cont9   cont10    cont11    cont12    cont13    cont14  \\\n125541  0.39455  0.48740  0.40666  0.550529  0.538473  0.298734  0.345946   \n125542  0.47669  0.25753  0.26894  0.324486  0.352251  0.490001  0.290576   \n125543  0.72299  0.94438  0.83510  0.933174  0.926619  0.848129  0.808125   \n125544  0.31796  0.32128  0.36974  0.307628  0.301921  0.608259  0.361542   \n125545  0.25461  0.31399  0.25183  0.245410  0.241676  0.287682  0.220323   \n\n       loss isTrain  \n125541  NaN   False  \n125542  NaN   False  \n125543  NaN   False  \n125544  NaN   False  \n125545  NaN   False  \n\n[5 rows x 133 columns]",
      "text/html": "<div>\n<style scoped>\n    .dataframe tbody tr th:only-of-type {\n        vertical-align: middle;\n    }\n\n    .dataframe tbody tr th {\n        vertical-align: top;\n    }\n\n    .dataframe thead th {\n        text-align: right;\n    }\n</style>\n<table border=\"1\" class=\"dataframe\">\n  <thead>\n    <tr style=\"text-align: right;\">\n      <th></th>\n      <th>id</th>\n      <th>cat1</th>\n      <th>cat2</th>\n      <th>cat3</th>\n      <th>cat4</th>\n      <th>cat5</th>\n      <th>cat6</th>\n      <th>cat7</th>\n      <th>cat8</th>\n      <th>cat9</th>\n      <th>...</th>\n      <th>cont7</th>\n      <th>cont8</th>\n      <th>cont9</th>\n      <th>cont10</th>\n      <th>cont11</th>\n      <th>cont12</th>\n      <th>cont13</th>\n      <th>cont14</th>\n      <th>loss</th>\n      <th>isTrain</th>\n    </tr>\n  </thead>\n  <tbody>\n    <tr>\n      <th>125541</th>\n      <td>587617</td>\n      <td>A</td>\n      <td>A</td>\n      <td>A</td>\n      <td>B</td>\n      <td>A</td>\n      <td>A</td>\n      <td>A</td>\n      <td>A</td>\n      <td>A</td>\n      <td>...</td>\n      <td>0.815941</td>\n      <td>0.39455</td>\n      <td>0.48740</td>\n      <td>0.40666</td>\n      <td>0.550529</td>\n      <td>0.538473</td>\n      <td>0.298734</td>\n      <td>0.345946</td>\n      <td>NaN</td>\n      <td>False</td>\n    </tr>\n    <tr>\n      <th>125542</th>\n      <td>587621</td>\n      <td>A</td>\n      <td>A</td>\n      <td>A</td>\n      <td>A</td>\n      <td>B</td>\n      <td>B</td>\n      <td>A</td>\n      <td>B</td>\n      <td>A</td>\n      <td>...</td>\n      <td>0.424968</td>\n      <td>0.47669</td>\n      <td>0.25753</td>\n      <td>0.26894</td>\n      <td>0.324486</td>\n      <td>0.352251</td>\n      <td>0.490001</td>\n      <td>0.290576</td>\n      <td>NaN</td>\n      <td>False</td>\n    </tr>\n    <tr>\n      <th>125543</th>\n      <td>587627</td>\n      <td>B</td>\n      <td>B</td>\n      <td>A</td>\n      <td>A</td>\n      <td>B</td>\n      <td>A</td>\n      <td>A</td>\n      <td>A</td>\n      <td>B</td>\n      <td>...</td>\n      <td>0.511502</td>\n      <td>0.72299</td>\n      <td>0.94438</td>\n      <td>0.83510</td>\n      <td>0.933174</td>\n      <td>0.926619</td>\n      <td>0.848129</td>\n      <td>0.808125</td>\n      <td>NaN</td>\n      <td>False</td>\n    </tr>\n    <tr>\n      <th>125544</th>\n      <td>587629</td>\n      <td>A</td>\n      <td>A</td>\n      <td>A</td>\n      <td>A</td>\n      <td>A</td>\n      <td>B</td>\n      <td>A</td>\n      <td>B</td>\n      <td>A</td>\n      <td>...</td>\n      <td>0.388545</td>\n      <td>0.31796</td>\n      <td>0.32128</td>\n      <td>0.36974</td>\n      <td>0.307628</td>\n      <td>0.301921</td>\n      <td>0.608259</td>\n      <td>0.361542</td>\n      <td>NaN</td>\n      <td>False</td>\n    </tr>\n    <tr>\n      <th>125545</th>\n      <td>587634</td>\n      <td>A</td>\n      <td>B</td>\n      <td>A</td>\n      <td>A</td>\n      <td>A</td>\n      <td>A</td>\n      <td>A</td>\n      <td>A</td>\n      <td>B</td>\n      <td>...</td>\n      <td>0.242044</td>\n      <td>0.25461</td>\n      <td>0.31399</td>\n      <td>0.25183</td>\n      <td>0.245410</td>\n      <td>0.241676</td>\n      <td>0.287682</td>\n      <td>0.220323</td>\n      <td>NaN</td>\n      <td>False</td>\n    </tr>\n  </tbody>\n</table>\n<p>5 rows × 133 columns</p>\n</div>"
     },
     "execution_count": 28,
     "metadata": {},
     "output_type": "execute_result"
    }
   ],
   "source": [
    "dataset.tail()"
   ],
   "metadata": {
    "collapsed": false,
    "ExecuteTime": {
     "end_time": "2023-06-11T14:28:35.404240800Z",
     "start_time": "2023-06-11T14:28:35.381253500Z"
    }
   }
  },
  {
   "cell_type": "code",
   "execution_count": 33,
   "outputs": [
    {
     "data": {
      "text/plain": "['cat1',\n 'cat2',\n 'cat3',\n 'cat4',\n 'cat5',\n 'cat6',\n 'cat7',\n 'cat8',\n 'cat9',\n 'cat10',\n 'cat11',\n 'cat12',\n 'cat13',\n 'cat14',\n 'cat15',\n 'cat16',\n 'cat17',\n 'cat18',\n 'cat19',\n 'cat20',\n 'cat21',\n 'cat22',\n 'cat23',\n 'cat24',\n 'cat25',\n 'cat26',\n 'cat27',\n 'cat28',\n 'cat29',\n 'cat30',\n 'cat31',\n 'cat32',\n 'cat33',\n 'cat34',\n 'cat35',\n 'cat36',\n 'cat37',\n 'cat38',\n 'cat39',\n 'cat40',\n 'cat41',\n 'cat42',\n 'cat43',\n 'cat44',\n 'cat45',\n 'cat46',\n 'cat47',\n 'cat48',\n 'cat49',\n 'cat50',\n 'cat51',\n 'cat52',\n 'cat53',\n 'cat54',\n 'cat55',\n 'cat56',\n 'cat57',\n 'cat58',\n 'cat59',\n 'cat60',\n 'cat61',\n 'cat62',\n 'cat63',\n 'cat64',\n 'cat65',\n 'cat66',\n 'cat67',\n 'cat68',\n 'cat69',\n 'cat70',\n 'cat71',\n 'cat72',\n 'cat73',\n 'cat74',\n 'cat75',\n 'cat76',\n 'cat77',\n 'cat78',\n 'cat79',\n 'cat80',\n 'cat81',\n 'cat82',\n 'cat83',\n 'cat84',\n 'cat85',\n 'cat86',\n 'cat87',\n 'cat88',\n 'cat89',\n 'cat90',\n 'cat91',\n 'cat92',\n 'cat93',\n 'cat94',\n 'cat95',\n 'cat96',\n 'cat97',\n 'cat98',\n 'cat99',\n 'cat100',\n 'cat101',\n 'cat102',\n 'cat103',\n 'cat104',\n 'cat105',\n 'cat106',\n 'cat107',\n 'cat108',\n 'cat109',\n 'cat110',\n 'cat111',\n 'cat112',\n 'cat113',\n 'cat114',\n 'cat115',\n 'cat116']"
     },
     "execution_count": 33,
     "metadata": {},
     "output_type": "execute_result"
    }
   ],
   "source": [
    "cat_pattern=re.compile(\"^cat([1-9]|[1-9][0-9]|[1-9][0-9][0-9])$\")\n",
    "count_pattern=re.compile(\"^count([1-9]|[1-9][0-9]|[1-9][0-9][0-9])$\")\n",
    "cat_col=sorted([cat for cat in train_dataset.columns if 'cat' in cat],key=lambda s:int(s[3:]))\n",
    "cat_col\n"
   ],
   "metadata": {
    "collapsed": false,
    "ExecuteTime": {
     "end_time": "2023-06-11T14:35:47.735809700Z",
     "start_time": "2023-06-11T14:35:47.691833Z"
    }
   }
  },
  {
   "cell_type": "code",
   "execution_count": 37,
   "outputs": [
    {
     "data": {
      "text/plain": "<seaborn.axisgrid.FacetGrid at 0x1eddcc771c0>"
     },
     "execution_count": 37,
     "metadata": {},
     "output_type": "execute_result"
    },
    {
     "data": {
      "text/plain": "<Figure size 500x500 with 1 Axes>",
      "image/png": "[encoded data removed]"
     },
     "metadata": {},
     "output_type": "display_data"
    }
   ],
   "source": [
    "sns.displot(np.log(train_dataset['loss']))"
   ],
   "metadata": {
    "collapsed": false,
    "ExecuteTime": {
     "end_time": "2023-06-11T14:40:24.677211300Z",
     "start_time": "2023-06-11T14:40:22.764801400Z"
    }
   }
  },
  {
   "cell_type": "code",
   "execution_count": 38,
   "outputs": [],
   "source": [
    "from sklearn.model_selection import train_test_split"
   ],
   "metadata": {
    "collapsed": false,
    "ExecuteTime": {
     "end_time": "2023-06-11T14:42:37.040705700Z",
     "start_time": "2023-06-11T14:42:36.468034400Z"
    }
   }
  },
  {
   "cell_type": "code",
   "execution_count": null,
   "outputs": [],
   "source": [],
   "metadata": {
    "collapsed": false
   }
  }
 ],
 "metadata": {
  "kernelspec": {
   "display_name": "Python 3",
   "language": "python",
   "name": "python3"
  },
  "language_info": {
   "codemirror_mode": {
    "name": "ipython",
    "version": 2
   },
   "file_extension": ".py",
   "mimetype": "text/x-python",
   "name": "python",
   "nbconvert_exporter": "python",
   "pygments_lexer": "ipython2",
   "version": "2.7.6"
  }
 },
 "nbformat": 4,
 "nbformat_minor": 0
}
